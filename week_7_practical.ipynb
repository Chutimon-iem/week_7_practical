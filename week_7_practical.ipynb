{
 "cells": [
  {
   "cell_type": "code",
   "execution_count": 3,
   "id": "6cf9911d",
   "metadata": {},
   "outputs": [
    {
     "name": "stderr",
     "output_type": "stream",
     "text": [
      "── Attaching packages ─────────────────────────────────────── tidyverse 1.2.1 ──\n",
      "✔ ggplot2 3.0.0     ✔ purrr   0.2.5\n",
      "✔ tibble  1.4.2     ✔ dplyr   0.7.6\n",
      "✔ tidyr   0.8.1     ✔ stringr 1.3.1\n",
      "✔ readr   1.1.1     ✔ forcats 0.3.0\n",
      "── Conflicts ────────────────────────────────────────── tidyverse_conflicts() ──\n",
      "✖ dplyr::filter() masks stats::filter()\n",
      "✖ dplyr::lag()    masks stats::lag()\n"
     ]
    }
   ],
   "source": [
    "library(tidyverse)"
   ]
  },
  {
   "cell_type": "markdown",
   "id": "f04d093d",
   "metadata": {},
   "source": [
    "Q.1\n",
    "* We have use the following dataset in the course material to generate two datasets form the same distribution but which have different sample means\n",
    "  * here I am generating only 5 samples, insteaf of the 40 generated in the course material"
   ]
  },
  {
   "cell_type": "code",
   "execution_count": 5,
   "id": "06c5b13c",
   "metadata": {},
   "outputs": [
    {
     "data": {
      "text/html": [
       "<table class=\"dataframe\">\n",
       "<caption>A tibble: 10 × 2</caption>\n",
       "<thead>\n",
       "\t<tr><th scope=col>measure</th><th scope=col>site_name</th></tr>\n",
       "\t<tr><th scope=col>&lt;dbl&gt;</th><th scope=col>&lt;chr&gt;</th></tr>\n",
       "</thead>\n",
       "<tbody>\n",
       "\t<tr><td>10.291195</td><td>Site 1</td></tr>\n",
       "\t<tr><td>11.388863</td><td>Site 1</td></tr>\n",
       "\t<tr><td>10.649010</td><td>Site 1</td></tr>\n",
       "\t<tr><td>11.477876</td><td>Site 1</td></tr>\n",
       "\t<tr><td>10.438720</td><td>Site 1</td></tr>\n",
       "\t<tr><td>10.522318</td><td>Site 2</td></tr>\n",
       "\t<tr><td> 9.955392</td><td>Site 2</td></tr>\n",
       "\t<tr><td>11.484413</td><td>Site 2</td></tr>\n",
       "\t<tr><td> 8.408989</td><td>Site 2</td></tr>\n",
       "\t<tr><td>10.225640</td><td>Site 2</td></tr>\n",
       "</tbody>\n",
       "</table>\n"
      ],
      "text/latex": [
       "A tibble: 10 × 2\n",
       "\\begin{tabular}{ll}\n",
       " measure & site\\_name\\\\\n",
       " <dbl> & <chr>\\\\\n",
       "\\hline\n",
       "\t 10.291195 & Site 1\\\\\n",
       "\t 11.388863 & Site 1\\\\\n",
       "\t 10.649010 & Site 1\\\\\n",
       "\t 11.477876 & Site 1\\\\\n",
       "\t 10.438720 & Site 1\\\\\n",
       "\t 10.522318 & Site 2\\\\\n",
       "\t  9.955392 & Site 2\\\\\n",
       "\t 11.484413 & Site 2\\\\\n",
       "\t  8.408989 & Site 2\\\\\n",
       "\t 10.225640 & Site 2\\\\\n",
       "\\end{tabular}\n"
      ],
      "text/markdown": [
       "\n",
       "A tibble: 10 × 2\n",
       "\n",
       "| measure &lt;dbl&gt; | site_name &lt;chr&gt; |\n",
       "|---|---|\n",
       "| 10.291195 | Site 1 |\n",
       "| 11.388863 | Site 1 |\n",
       "| 10.649010 | Site 1 |\n",
       "| 11.477876 | Site 1 |\n",
       "| 10.438720 | Site 1 |\n",
       "| 10.522318 | Site 2 |\n",
       "|  9.955392 | Site 2 |\n",
       "| 11.484413 | Site 2 |\n",
       "|  8.408989 | Site 2 |\n",
       "| 10.225640 | Site 2 |\n",
       "\n"
      ],
      "text/plain": [
       "   measure   site_name\n",
       "1  10.291195 Site 1   \n",
       "2  11.388863 Site 1   \n",
       "3  10.649010 Site 1   \n",
       "4  11.477876 Site 1   \n",
       "5  10.438720 Site 1   \n",
       "6  10.522318 Site 2   \n",
       "7   9.955392 Site 2   \n",
       "8  11.484413 Site 2   \n",
       "9   8.408989 Site 2   \n",
       "10 10.225640 Site 2   "
      ]
     },
     "metadata": {},
     "output_type": "display_data"
    }
   ],
   "source": [
    "set.seed(110)\n",
    "data_1 = tibble(measure=rnorm(5, 10, 1))\n",
    "data_1$site_name <- 'Site 1'\n",
    "data_2 = tibble(measure=rnorm(5, 10, 1))\n",
    "data_2$site_name <- 'Site 2'\n",
    "complete_data = rbind(data_1, data_2)\n",
    "complete_data"
   ]
  },
  {
   "cell_type": "code",
   "execution_count": null,
   "id": "f50a4eca",
   "metadata": {},
   "outputs": [],
   "source": [
    "* I compute the mean of the dataset above using the following code:\n",
    "  * feel free to deconstruct the code to see what each chunk does.\n"
   ]
  },
  {
   "cell_type": "code",
   "execution_count": 15,
   "id": "55b314c7",
   "metadata": {},
   "outputs": [
    {
     "data": {
      "text/html": [
       "10.8491329008612"
      ],
      "text/latex": [
       "10.8491329008612"
      ],
      "text/markdown": [
       "10.8491329008612"
      ],
      "text/plain": [
       "[1] 10.84913"
      ]
     },
     "metadata": {},
     "output_type": "display_data"
    },
    {
     "data": {
      "text/html": [
       "10.1193505444919"
      ],
      "text/latex": [
       "10.1193505444919"
      ],
      "text/markdown": [
       "10.1193505444919"
      ],
      "text/plain": [
       "[1] 10.11935"
      ]
     },
     "metadata": {},
     "output_type": "display_data"
    }
   ],
   "source": [
    "mean(complete_data[complete_data$site_name == \"Site 1\", ]$measure)\n",
    "mean(complete_data[complete_data$site_name == \"Site 2\", ]$measure)"
   ]
  },
  {
   "cell_type": "markdown",
   "id": "1f1bc85b",
   "metadata": {},
   "source": [
    "* Use the `tapply` function instead of the code above to compute the means samples from \"Site 1\" and those from site 2\n",
    "  * See tapply for help if needed"
   ]
  },
  {
   "cell_type": "code",
   "execution_count": 22,
   "id": "bfed805c",
   "metadata": {},
   "outputs": [
    {
     "data": {
      "text/html": [
       "<style>\n",
       ".dl-inline {width: auto; margin:0; padding: 0}\n",
       ".dl-inline>dt, .dl-inline>dd {float: none; width: auto; display: inline-block}\n",
       ".dl-inline>dt::after {content: \":\\0020\"; padding-right: .5ex}\n",
       ".dl-inline>dt:not(:first-of-type) {padding-left: .5ex}\n",
       "</style><dl class=dl-inline><dt>Site 1</dt><dd>10.8491329008612</dd><dt>Site 2</dt><dd>10.1193505444919</dd></dl>\n"
      ],
      "text/latex": [
       "\\begin{description*}\n",
       "\\item[Site 1] 10.8491329008612\n",
       "\\item[Site 2] 10.1193505444919\n",
       "\\end{description*}\n"
      ],
      "text/markdown": [
       "Site 1\n",
       ":   10.8491329008612Site 2\n",
       ":   10.1193505444919\n",
       "\n"
      ],
      "text/plain": [
       "  Site 1   Site 2 \n",
       "10.84913 10.11935 "
      ]
     },
     "metadata": {},
     "output_type": "display_data"
    }
   ],
   "source": [
    "# Write your code here\n",
    "\n",
    "tapply(complete_data$measure, complete_data$site_name, mean)"
   ]
  },
  {
   "cell_type": "markdown",
   "id": "11f8a777",
   "metadata": {},
   "source": [
    "Q.2 \n",
    "Recall that the test conducted on full version of data_1 and data_2 led us to conlclude that the difference between the two datasets is statistically significant, when both samples were in fact from the same distirbution  $\\mathcal{N}(\\mu=10, \\sigma=1)$\n",
    "\n",
    "* Use the boostrapping-based test covered in class to assess whether you arrive at the same conclusion\n",
    "\n",
    "* You can generate the data using the code snippet below\n",
    "\n"
   ]
  },
  {
   "cell_type": "code",
   "execution_count": 8,
   "id": "4e6cfe5f",
   "metadata": {},
   "outputs": [],
   "source": [
    "set.seed(110)\n",
    "data_1 = tibble(measure=rnorm(40, 10, 1))\n",
    "data_1$site_name <- 'Site 1'\n",
    "data_2 = tibble(measure=rnorm(40, 10, 1))\n",
    "data_2$site_name <- 'Site 2'\n",
    "complete_data = rbind(data_1, data_2)\n"
   ]
  },
  {
   "cell_type": "code",
   "execution_count": 9,
   "id": "7b45da92",
   "metadata": {},
   "outputs": [
    {
     "data": {},
     "metadata": {},
     "output_type": "display_data"
    },
    {
     "data": {
      "image/png": "[encoded data removed]",
      "text/plain": [
       "plot without title"
      ]
     },
     "metadata": {},
     "output_type": "display_data"
    }
   ],
   "source": [
    "ggplot(complete_data, aes(x=measure, fill = site_name)) + \n",
    "  geom_density(alpha = 0.4, bw =0.60) + \n",
    "  xlim(5,18)\n"
   ]
  },
  {
   "cell_type": "code",
   "execution_count": 11,
   "id": "b2c1a40d",
   "metadata": {},
   "outputs": [
    {
     "name": "stdout",
     "output_type": "stream",
     "text": [
      "List of 9\n",
      " $ statistic  : Named num 2.11\n",
      "  ..- attr(*, \"names\")= chr \"t\"\n",
      " $ parameter  : Named num 74.2\n",
      "  ..- attr(*, \"names\")= chr \"df\"\n",
      " $ p.value    : num 0.0385\n",
      " $ conf.int   : num [1:2] 0.0241 0.8682\n",
      "  ..- attr(*, \"conf.level\")= num 0.95\n",
      " $ estimate   : Named num [1:2] 10.1 9.7\n",
      "  ..- attr(*, \"names\")= chr [1:2] \"mean of x\" \"mean of y\"\n",
      " $ null.value : Named num 0\n",
      "  ..- attr(*, \"names\")= chr \"difference in means\"\n",
      " $ alternative: chr \"two.sided\"\n",
      " $ method     : chr \"Welch Two Sample t-test\"\n",
      " $ data.name  : chr \"data_1$measure and data_2$measure\"\n",
      " - attr(*, \"class\")= chr \"htest\"\n"
     ]
    }
   ],
   "source": [
    "data = t.test(data_1$measure, data_2$measure,)\n",
    "str(data)"
   ]
  },
  {
   "cell_type": "code",
   "execution_count": 12,
   "id": "2d872be8",
   "metadata": {},
   "outputs": [
    {
     "data": {
      "text/html": [
       "0.0385467920635608"
      ],
      "text/latex": [
       "0.0385467920635608"
      ],
      "text/markdown": [
       "0.0385467920635608"
      ],
      "text/plain": [
       "[1] 0.03854679"
      ]
     },
     "metadata": {},
     "output_type": "display_data"
    }
   ],
   "source": [
    "data$p.value"
   ]
  },
  {
   "cell_type": "code",
   "execution_count": 24,
   "id": "4337260f",
   "metadata": {
    "scrolled": true
   },
   "outputs": [
    {
     "data": {
      "text/html": [
       "<ol class=list-inline>\n",
       "\t<li>0.835476123125127</li>\n",
       "\t<li>0.969283635333267</li>\n",
       "\t<li>0.506395322757049</li>\n",
       "\t<li>0.580732246805735</li>\n",
       "\t<li>0.616227116284175</li>\n",
       "\t<li>0.0178243202257384</li>\n",
       "\t<li>0.105020849026282</li>\n",
       "\t<li>0.0338124413004084</li>\n",
       "\t<li>0.136708705204171</li>\n",
       "\t<li>0.488579074505308</li>\n",
       "</ol>\n"
      ],
      "text/latex": [
       "\\begin{enumerate*}\n",
       "\\item 0.835476123125127\n",
       "\\item 0.969283635333267\n",
       "\\item 0.506395322757049\n",
       "\\item 0.580732246805735\n",
       "\\item 0.616227116284175\n",
       "\\item 0.0178243202257384\n",
       "\\item 0.105020849026282\n",
       "\\item 0.0338124413004084\n",
       "\\item 0.136708705204171\n",
       "\\item 0.488579074505308\n",
       "\\end{enumerate*}\n"
      ],
      "text/markdown": [
       "1. 0.835476123125127\n",
       "2. 0.969283635333267\n",
       "3. 0.506395322757049\n",
       "4. 0.580732246805735\n",
       "5. 0.616227116284175\n",
       "6. 0.0178243202257384\n",
       "7. 0.105020849026282\n",
       "8. 0.0338124413004084\n",
       "9. 0.136708705204171\n",
       "10. 0.488579074505308\n",
       "\n",
       "\n"
      ],
      "text/plain": [
       " [1] 0.83547612 0.96928364 0.50639532 0.58073225 0.61622712 0.01782432\n",
       " [7] 0.10502085 0.03381244 0.13670871 0.48857907"
      ]
     },
     "metadata": {},
     "output_type": "display_data"
    },
    {
     "data": {
      "text/html": [
       "<ol class=list-inline>\n",
       "\t<li>FALSE</li>\n",
       "\t<li>FALSE</li>\n",
       "\t<li>FALSE</li>\n",
       "\t<li>FALSE</li>\n",
       "\t<li>FALSE</li>\n",
       "\t<li>FALSE</li>\n",
       "\t<li>FALSE</li>\n",
       "\t<li>FALSE</li>\n",
       "\t<li>FALSE</li>\n",
       "\t<li>FALSE</li>\n",
       "</ol>\n"
      ],
      "text/latex": [
       "\\begin{enumerate*}\n",
       "\\item FALSE\n",
       "\\item FALSE\n",
       "\\item FALSE\n",
       "\\item FALSE\n",
       "\\item FALSE\n",
       "\\item FALSE\n",
       "\\item FALSE\n",
       "\\item FALSE\n",
       "\\item FALSE\n",
       "\\item FALSE\n",
       "\\end{enumerate*}\n"
      ],
      "text/markdown": [
       "1. FALSE\n",
       "2. FALSE\n",
       "3. FALSE\n",
       "4. FALSE\n",
       "5. FALSE\n",
       "6. FALSE\n",
       "7. FALSE\n",
       "8. FALSE\n",
       "9. FALSE\n",
       "10. FALSE\n",
       "\n",
       "\n"
      ],
      "text/plain": [
       " [1] FALSE FALSE FALSE FALSE FALSE FALSE FALSE FALSE FALSE FALSE"
      ]
     },
     "metadata": {},
     "output_type": "display_data"
    }
   ],
   "source": [
    "replicate(10, \n",
    "    t.test(rnorm(40, 10, 1), rnorm(40, 10, 1))$p.value\n",
    ") \n",
    "\n",
    "replicate(10, \n",
    "    t.test(rnorm(40, 10, 1), rnorm(40, 10, 1))$p.value\n",
    ") < 0.05\n"
   ]
  },
  {
   "cell_type": "code",
   "execution_count": 35,
   "id": "17cbe0d2",
   "metadata": {},
   "outputs": [],
   "source": [
    "t_test = replicate(10000, \n",
    "    t.test(rnorm(40, 10, 1), rnorm(40, 10, 1))$p.value\n",
    ") < 0.05"
   ]
  },
  {
   "cell_type": "code",
   "execution_count": 36,
   "id": "66340f79",
   "metadata": {},
   "outputs": [
    {
     "data": {
      "text/html": [
       "0.0519"
      ],
      "text/latex": [
       "0.0519"
      ],
      "text/markdown": [
       "0.0519"
      ],
      "text/plain": [
       "[1] 0.0519"
      ]
     },
     "metadata": {},
     "output_type": "display_data"
    }
   ],
   "source": [
    "sum(t_test)/length(t_test)"
   ]
  },
  {
   "cell_type": "markdown",
   "id": "070a2fcb",
   "metadata": {},
   "source": [
    "Q.3 \n",
    "\n",
    "* The proportion of the of _P. lobata_, _M. capitata_ and _P. mendrina_ at a site X are c(0.60, 0.19, 0.21).\n",
    "* You surveyed a site Y with somewhat differentenvironmental conditions and obtains the following proportions for the same coral (0.61, 0.19, 0.20). Use the multinomial non-parameteric hypotheses test to assess the proportions obtained at sites X and Y are statistically differnet\n",
    "\n"
   ]
  },
  {
   "cell_type": "code",
   "execution_count": 53,
   "id": "bddd182b",
   "metadata": {},
   "outputs": [
    {
     "data": {
      "text/html": [
       "<ol class=list-inline>\n",
       "\t<li>'P.mendrina'</li>\n",
       "\t<li>'M.capitata'</li>\n",
       "\t<li>'P.mendrina'</li>\n",
       "\t<li>'P.lobata'</li>\n",
       "\t<li>'P.lobata'</li>\n",
       "\t<li>'P.lobata'</li>\n",
       "\t<li>'P.lobata'</li>\n",
       "\t<li>'P.lobata'</li>\n",
       "\t<li>'P.lobata'</li>\n",
       "\t<li>'P.lobata'</li>\n",
       "\t<li>'P.lobata'</li>\n",
       "\t<li>'P.mendrina'</li>\n",
       "\t<li>'P.lobata'</li>\n",
       "\t<li>'P.lobata'</li>\n",
       "\t<li>'M.capitata'</li>\n",
       "\t<li>'P.mendrina'</li>\n",
       "\t<li>'P.lobata'</li>\n",
       "\t<li>'M.capitata'</li>\n",
       "\t<li>'P.lobata'</li>\n",
       "\t<li>'P.lobata'</li>\n",
       "\t<li>'P.lobata'</li>\n",
       "\t<li>'P.lobata'</li>\n",
       "\t<li>'P.lobata'</li>\n",
       "\t<li>'P.lobata'</li>\n",
       "\t<li>'P.mendrina'</li>\n",
       "\t<li>'P.mendrina'</li>\n",
       "\t<li>'P.lobata'</li>\n",
       "\t<li>'P.mendrina'</li>\n",
       "\t<li>'P.mendrina'</li>\n",
       "\t<li>'P.mendrina'</li>\n",
       "\t<li>'M.capitata'</li>\n",
       "\t<li>'P.lobata'</li>\n",
       "\t<li>'P.mendrina'</li>\n",
       "\t<li>'P.lobata'</li>\n",
       "\t<li>'P.mendrina'</li>\n",
       "\t<li>'P.lobata'</li>\n",
       "\t<li>'M.capitata'</li>\n",
       "\t<li>'P.mendrina'</li>\n",
       "\t<li>'P.lobata'</li>\n",
       "\t<li>'P.lobata'</li>\n",
       "\t<li>'M.capitata'</li>\n",
       "\t<li>'P.lobata'</li>\n",
       "\t<li>'P.lobata'</li>\n",
       "\t<li>'P.lobata'</li>\n",
       "\t<li>'M.capitata'</li>\n",
       "\t<li>'P.lobata'</li>\n",
       "\t<li>'P.lobata'</li>\n",
       "\t<li>'P.lobata'</li>\n",
       "\t<li>'P.lobata'</li>\n",
       "\t<li>'P.lobata'</li>\n",
       "\t<li>'P.mendrina'</li>\n",
       "\t<li>'P.lobata'</li>\n",
       "\t<li>'P.lobata'</li>\n",
       "\t<li>'P.mendrina'</li>\n",
       "\t<li>'P.mendrina'</li>\n",
       "\t<li>'M.capitata'</li>\n",
       "\t<li>'P.mendrina'</li>\n",
       "\t<li>'P.lobata'</li>\n",
       "\t<li>'P.lobata'</li>\n",
       "\t<li>'P.lobata'</li>\n",
       "\t<li>'P.mendrina'</li>\n",
       "\t<li>'P.lobata'</li>\n",
       "\t<li>'P.lobata'</li>\n",
       "\t<li>'P.lobata'</li>\n",
       "\t<li>'P.lobata'</li>\n",
       "\t<li>'P.lobata'</li>\n",
       "\t<li>'M.capitata'</li>\n",
       "\t<li>'P.lobata'</li>\n",
       "\t<li>'P.lobata'</li>\n",
       "\t<li>'M.capitata'</li>\n",
       "\t<li>'P.mendrina'</li>\n",
       "\t<li>'P.mendrina'</li>\n",
       "\t<li>'P.lobata'</li>\n",
       "\t<li>'P.mendrina'</li>\n",
       "\t<li>'P.lobata'</li>\n",
       "\t<li>'P.mendrina'</li>\n",
       "\t<li>'P.lobata'</li>\n",
       "\t<li>'P.lobata'</li>\n",
       "\t<li>'P.mendrina'</li>\n",
       "\t<li>'P.mendrina'</li>\n",
       "\t<li>'M.capitata'</li>\n",
       "\t<li>'M.capitata'</li>\n",
       "\t<li>'P.mendrina'</li>\n",
       "\t<li>'P.lobata'</li>\n",
       "\t<li>'M.capitata'</li>\n",
       "\t<li>'P.mendrina'</li>\n",
       "\t<li>'P.lobata'</li>\n",
       "\t<li>'M.capitata'</li>\n",
       "\t<li>'P.lobata'</li>\n",
       "\t<li>'P.mendrina'</li>\n",
       "\t<li>'P.mendrina'</li>\n",
       "\t<li>'P.mendrina'</li>\n",
       "\t<li>'M.capitata'</li>\n",
       "\t<li>'P.lobata'</li>\n",
       "\t<li>'M.capitata'</li>\n",
       "\t<li>'P.lobata'</li>\n",
       "\t<li>'P.lobata'</li>\n",
       "\t<li>'P.lobata'</li>\n",
       "\t<li>'P.mendrina'</li>\n",
       "\t<li>'P.lobata'</li>\n",
       "</ol>\n"
      ],
      "text/latex": [
       "\\begin{enumerate*}\n",
       "\\item 'P.mendrina'\n",
       "\\item 'M.capitata'\n",
       "\\item 'P.mendrina'\n",
       "\\item 'P.lobata'\n",
       "\\item 'P.lobata'\n",
       "\\item 'P.lobata'\n",
       "\\item 'P.lobata'\n",
       "\\item 'P.lobata'\n",
       "\\item 'P.lobata'\n",
       "\\item 'P.lobata'\n",
       "\\item 'P.lobata'\n",
       "\\item 'P.mendrina'\n",
       "\\item 'P.lobata'\n",
       "\\item 'P.lobata'\n",
       "\\item 'M.capitata'\n",
       "\\item 'P.mendrina'\n",
       "\\item 'P.lobata'\n",
       "\\item 'M.capitata'\n",
       "\\item 'P.lobata'\n",
       "\\item 'P.lobata'\n",
       "\\item 'P.lobata'\n",
       "\\item 'P.lobata'\n",
       "\\item 'P.lobata'\n",
       "\\item 'P.lobata'\n",
       "\\item 'P.mendrina'\n",
       "\\item 'P.mendrina'\n",
       "\\item 'P.lobata'\n",
       "\\item 'P.mendrina'\n",
       "\\item 'P.mendrina'\n",
       "\\item 'P.mendrina'\n",
       "\\item 'M.capitata'\n",
       "\\item 'P.lobata'\n",
       "\\item 'P.mendrina'\n",
       "\\item 'P.lobata'\n",
       "\\item 'P.mendrina'\n",
       "\\item 'P.lobata'\n",
       "\\item 'M.capitata'\n",
       "\\item 'P.mendrina'\n",
       "\\item 'P.lobata'\n",
       "\\item 'P.lobata'\n",
       "\\item 'M.capitata'\n",
       "\\item 'P.lobata'\n",
       "\\item 'P.lobata'\n",
       "\\item 'P.lobata'\n",
       "\\item 'M.capitata'\n",
       "\\item 'P.lobata'\n",
       "\\item 'P.lobata'\n",
       "\\item 'P.lobata'\n",
       "\\item 'P.lobata'\n",
       "\\item 'P.lobata'\n",
       "\\item 'P.mendrina'\n",
       "\\item 'P.lobata'\n",
       "\\item 'P.lobata'\n",
       "\\item 'P.mendrina'\n",
       "\\item 'P.mendrina'\n",
       "\\item 'M.capitata'\n",
       "\\item 'P.mendrina'\n",
       "\\item 'P.lobata'\n",
       "\\item 'P.lobata'\n",
       "\\item 'P.lobata'\n",
       "\\item 'P.mendrina'\n",
       "\\item 'P.lobata'\n",
       "\\item 'P.lobata'\n",
       "\\item 'P.lobata'\n",
       "\\item 'P.lobata'\n",
       "\\item 'P.lobata'\n",
       "\\item 'M.capitata'\n",
       "\\item 'P.lobata'\n",
       "\\item 'P.lobata'\n",
       "\\item 'M.capitata'\n",
       "\\item 'P.mendrina'\n",
       "\\item 'P.mendrina'\n",
       "\\item 'P.lobata'\n",
       "\\item 'P.mendrina'\n",
       "\\item 'P.lobata'\n",
       "\\item 'P.mendrina'\n",
       "\\item 'P.lobata'\n",
       "\\item 'P.lobata'\n",
       "\\item 'P.mendrina'\n",
       "\\item 'P.mendrina'\n",
       "\\item 'M.capitata'\n",
       "\\item 'M.capitata'\n",
       "\\item 'P.mendrina'\n",
       "\\item 'P.lobata'\n",
       "\\item 'M.capitata'\n",
       "\\item 'P.mendrina'\n",
       "\\item 'P.lobata'\n",
       "\\item 'M.capitata'\n",
       "\\item 'P.lobata'\n",
       "\\item 'P.mendrina'\n",
       "\\item 'P.mendrina'\n",
       "\\item 'P.mendrina'\n",
       "\\item 'M.capitata'\n",
       "\\item 'P.lobata'\n",
       "\\item 'M.capitata'\n",
       "\\item 'P.lobata'\n",
       "\\item 'P.lobata'\n",
       "\\item 'P.lobata'\n",
       "\\item 'P.mendrina'\n",
       "\\item 'P.lobata'\n",
       "\\end{enumerate*}\n"
      ],
      "text/markdown": [
       "1. 'P.mendrina'\n",
       "2. 'M.capitata'\n",
       "3. 'P.mendrina'\n",
       "4. 'P.lobata'\n",
       "5. 'P.lobata'\n",
       "6. 'P.lobata'\n",
       "7. 'P.lobata'\n",
       "8. 'P.lobata'\n",
       "9. 'P.lobata'\n",
       "10. 'P.lobata'\n",
       "11. 'P.lobata'\n",
       "12. 'P.mendrina'\n",
       "13. 'P.lobata'\n",
       "14. 'P.lobata'\n",
       "15. 'M.capitata'\n",
       "16. 'P.mendrina'\n",
       "17. 'P.lobata'\n",
       "18. 'M.capitata'\n",
       "19. 'P.lobata'\n",
       "20. 'P.lobata'\n",
       "21. 'P.lobata'\n",
       "22. 'P.lobata'\n",
       "23. 'P.lobata'\n",
       "24. 'P.lobata'\n",
       "25. 'P.mendrina'\n",
       "26. 'P.mendrina'\n",
       "27. 'P.lobata'\n",
       "28. 'P.mendrina'\n",
       "29. 'P.mendrina'\n",
       "30. 'P.mendrina'\n",
       "31. 'M.capitata'\n",
       "32. 'P.lobata'\n",
       "33. 'P.mendrina'\n",
       "34. 'P.lobata'\n",
       "35. 'P.mendrina'\n",
       "36. 'P.lobata'\n",
       "37. 'M.capitata'\n",
       "38. 'P.mendrina'\n",
       "39. 'P.lobata'\n",
       "40. 'P.lobata'\n",
       "41. 'M.capitata'\n",
       "42. 'P.lobata'\n",
       "43. 'P.lobata'\n",
       "44. 'P.lobata'\n",
       "45. 'M.capitata'\n",
       "46. 'P.lobata'\n",
       "47. 'P.lobata'\n",
       "48. 'P.lobata'\n",
       "49. 'P.lobata'\n",
       "50. 'P.lobata'\n",
       "51. 'P.mendrina'\n",
       "52. 'P.lobata'\n",
       "53. 'P.lobata'\n",
       "54. 'P.mendrina'\n",
       "55. 'P.mendrina'\n",
       "56. 'M.capitata'\n",
       "57. 'P.mendrina'\n",
       "58. 'P.lobata'\n",
       "59. 'P.lobata'\n",
       "60. 'P.lobata'\n",
       "61. 'P.mendrina'\n",
       "62. 'P.lobata'\n",
       "63. 'P.lobata'\n",
       "64. 'P.lobata'\n",
       "65. 'P.lobata'\n",
       "66. 'P.lobata'\n",
       "67. 'M.capitata'\n",
       "68. 'P.lobata'\n",
       "69. 'P.lobata'\n",
       "70. 'M.capitata'\n",
       "71. 'P.mendrina'\n",
       "72. 'P.mendrina'\n",
       "73. 'P.lobata'\n",
       "74. 'P.mendrina'\n",
       "75. 'P.lobata'\n",
       "76. 'P.mendrina'\n",
       "77. 'P.lobata'\n",
       "78. 'P.lobata'\n",
       "79. 'P.mendrina'\n",
       "80. 'P.mendrina'\n",
       "81. 'M.capitata'\n",
       "82. 'M.capitata'\n",
       "83. 'P.mendrina'\n",
       "84. 'P.lobata'\n",
       "85. 'M.capitata'\n",
       "86. 'P.mendrina'\n",
       "87. 'P.lobata'\n",
       "88. 'M.capitata'\n",
       "89. 'P.lobata'\n",
       "90. 'P.mendrina'\n",
       "91. 'P.mendrina'\n",
       "92. 'P.mendrina'\n",
       "93. 'M.capitata'\n",
       "94. 'P.lobata'\n",
       "95. 'M.capitata'\n",
       "96. 'P.lobata'\n",
       "97. 'P.lobata'\n",
       "98. 'P.lobata'\n",
       "99. 'P.mendrina'\n",
       "100. 'P.lobata'\n",
       "\n",
       "\n"
      ],
      "text/plain": [
       "  [1] \"P.mendrina\" \"M.capitata\" \"P.mendrina\" \"P.lobata\"   \"P.lobata\"  \n",
       "  [6] \"P.lobata\"   \"P.lobata\"   \"P.lobata\"   \"P.lobata\"   \"P.lobata\"  \n",
       " [11] \"P.lobata\"   \"P.mendrina\" \"P.lobata\"   \"P.lobata\"   \"M.capitata\"\n",
       " [16] \"P.mendrina\" \"P.lobata\"   \"M.capitata\" \"P.lobata\"   \"P.lobata\"  \n",
       " [21] \"P.lobata\"   \"P.lobata\"   \"P.lobata\"   \"P.lobata\"   \"P.mendrina\"\n",
       " [26] \"P.mendrina\" \"P.lobata\"   \"P.mendrina\" \"P.mendrina\" \"P.mendrina\"\n",
       " [31] \"M.capitata\" \"P.lobata\"   \"P.mendrina\" \"P.lobata\"   \"P.mendrina\"\n",
       " [36] \"P.lobata\"   \"M.capitata\" \"P.mendrina\" \"P.lobata\"   \"P.lobata\"  \n",
       " [41] \"M.capitata\" \"P.lobata\"   \"P.lobata\"   \"P.lobata\"   \"M.capitata\"\n",
       " [46] \"P.lobata\"   \"P.lobata\"   \"P.lobata\"   \"P.lobata\"   \"P.lobata\"  \n",
       " [51] \"P.mendrina\" \"P.lobata\"   \"P.lobata\"   \"P.mendrina\" \"P.mendrina\"\n",
       " [56] \"M.capitata\" \"P.mendrina\" \"P.lobata\"   \"P.lobata\"   \"P.lobata\"  \n",
       " [61] \"P.mendrina\" \"P.lobata\"   \"P.lobata\"   \"P.lobata\"   \"P.lobata\"  \n",
       " [66] \"P.lobata\"   \"M.capitata\" \"P.lobata\"   \"P.lobata\"   \"M.capitata\"\n",
       " [71] \"P.mendrina\" \"P.mendrina\" \"P.lobata\"   \"P.mendrina\" \"P.lobata\"  \n",
       " [76] \"P.mendrina\" \"P.lobata\"   \"P.lobata\"   \"P.mendrina\" \"P.mendrina\"\n",
       " [81] \"M.capitata\" \"M.capitata\" \"P.mendrina\" \"P.lobata\"   \"M.capitata\"\n",
       " [86] \"P.mendrina\" \"P.lobata\"   \"M.capitata\" \"P.lobata\"   \"P.mendrina\"\n",
       " [91] \"P.mendrina\" \"P.mendrina\" \"M.capitata\" \"P.lobata\"   \"M.capitata\"\n",
       " [96] \"P.lobata\"   \"P.lobata\"   \"P.lobata\"   \"P.mendrina\" \"P.lobata\"  "
      ]
     },
     "metadata": {},
     "output_type": "display_data"
    }
   ],
   "source": [
    "set.seed(40)\n",
    "model_x_proportions = c(0.60, 0.19, 0.21)\n",
    "datax = sample(c(\"P.lobata\", \"M.capitata\",\"P.mendrina\"), 100, replace=TRUE, prob=model_x_proportions)\n",
    "datax"
   ]
  },
  {
   "cell_type": "code",
   "execution_count": 46,
   "id": "3db234a1",
   "metadata": {},
   "outputs": [
    {
     "data": {
      "text/html": [
       "0.48"
      ],
      "text/latex": [
       "0.48"
      ],
      "text/markdown": [
       "0.48"
      ],
      "text/plain": [
       "[1] 0.48"
      ]
     },
     "metadata": {},
     "output_type": "display_data"
    },
    {
     "data": {
      "text/html": [
       "0.3"
      ],
      "text/latex": [
       "0.3"
      ],
      "text/markdown": [
       "0.3"
      ],
      "text/plain": [
       "[1] 0.3"
      ]
     },
     "metadata": {},
     "output_type": "display_data"
    },
    {
     "data": {
      "text/html": [
       "0.22"
      ],
      "text/latex": [
       "0.22"
      ],
      "text/markdown": [
       "0.22"
      ],
      "text/plain": [
       "[1] 0.22"
      ]
     },
     "metadata": {},
     "output_type": "display_data"
    }
   ],
   "source": [
    "sum(data==\"P.lobata\")/length(data)\n",
    "sum(data==\"M.capitata\")/length(data)\n",
    "sum(data==\"P.mendrina\")/length(data)"
   ]
  },
  {
   "cell_type": "code",
   "execution_count": 54,
   "id": "bdb382b7",
   "metadata": {},
   "outputs": [
    {
     "data": {
      "text/html": [
       "<ol class=list-inline>\n",
       "\t<li>'P.mendrina'</li>\n",
       "\t<li>'M.capitata'</li>\n",
       "\t<li>'P.mendrina'</li>\n",
       "\t<li>'P.lobata'</li>\n",
       "\t<li>'P.lobata'</li>\n",
       "\t<li>'P.lobata'</li>\n",
       "\t<li>'P.lobata'</li>\n",
       "\t<li>'P.lobata'</li>\n",
       "\t<li>'P.lobata'</li>\n",
       "\t<li>'P.lobata'</li>\n",
       "\t<li>'P.lobata'</li>\n",
       "\t<li>'P.mendrina'</li>\n",
       "\t<li>'P.lobata'</li>\n",
       "\t<li>'P.lobata'</li>\n",
       "\t<li>'M.capitata'</li>\n",
       "\t<li>'P.mendrina'</li>\n",
       "\t<li>'P.lobata'</li>\n",
       "\t<li>'M.capitata'</li>\n",
       "\t<li>'P.lobata'</li>\n",
       "\t<li>'P.lobata'</li>\n",
       "\t<li>'P.lobata'</li>\n",
       "\t<li>'P.lobata'</li>\n",
       "\t<li>'P.lobata'</li>\n",
       "\t<li>'P.lobata'</li>\n",
       "\t<li>'P.mendrina'</li>\n",
       "\t<li>'P.mendrina'</li>\n",
       "\t<li>'P.lobata'</li>\n",
       "\t<li>'P.mendrina'</li>\n",
       "\t<li>'P.mendrina'</li>\n",
       "\t<li>'P.mendrina'</li>\n",
       "\t<li>'M.capitata'</li>\n",
       "\t<li>'P.lobata'</li>\n",
       "\t<li>'P.mendrina'</li>\n",
       "\t<li>'P.lobata'</li>\n",
       "\t<li>'P.mendrina'</li>\n",
       "\t<li>'P.lobata'</li>\n",
       "\t<li>'M.capitata'</li>\n",
       "\t<li>'P.mendrina'</li>\n",
       "\t<li>'P.lobata'</li>\n",
       "\t<li>'P.lobata'</li>\n",
       "\t<li>'M.capitata'</li>\n",
       "\t<li>'P.lobata'</li>\n",
       "\t<li>'P.lobata'</li>\n",
       "\t<li>'P.lobata'</li>\n",
       "\t<li>'M.capitata'</li>\n",
       "\t<li>'P.lobata'</li>\n",
       "\t<li>'P.lobata'</li>\n",
       "\t<li>'P.lobata'</li>\n",
       "\t<li>'P.lobata'</li>\n",
       "\t<li>'P.lobata'</li>\n",
       "\t<li>'P.mendrina'</li>\n",
       "\t<li>'P.lobata'</li>\n",
       "\t<li>'P.lobata'</li>\n",
       "\t<li>'P.mendrina'</li>\n",
       "\t<li>'P.mendrina'</li>\n",
       "\t<li>'M.capitata'</li>\n",
       "\t<li>'P.mendrina'</li>\n",
       "\t<li>'P.lobata'</li>\n",
       "\t<li>'P.lobata'</li>\n",
       "\t<li>'P.lobata'</li>\n",
       "\t<li>'P.mendrina'</li>\n",
       "\t<li>'P.lobata'</li>\n",
       "\t<li>'P.lobata'</li>\n",
       "\t<li>'P.lobata'</li>\n",
       "\t<li>'P.lobata'</li>\n",
       "\t<li>'P.lobata'</li>\n",
       "\t<li>'M.capitata'</li>\n",
       "\t<li>'P.lobata'</li>\n",
       "\t<li>'P.lobata'</li>\n",
       "\t<li>'M.capitata'</li>\n",
       "\t<li>'P.mendrina'</li>\n",
       "\t<li>'P.mendrina'</li>\n",
       "\t<li>'P.lobata'</li>\n",
       "\t<li>'P.mendrina'</li>\n",
       "\t<li>'P.lobata'</li>\n",
       "\t<li>'P.mendrina'</li>\n",
       "\t<li>'P.lobata'</li>\n",
       "\t<li>'P.lobata'</li>\n",
       "\t<li>'P.mendrina'</li>\n",
       "\t<li>'P.mendrina'</li>\n",
       "\t<li>'M.capitata'</li>\n",
       "\t<li>'M.capitata'</li>\n",
       "\t<li>'P.mendrina'</li>\n",
       "\t<li>'P.lobata'</li>\n",
       "\t<li>'M.capitata'</li>\n",
       "\t<li>'P.mendrina'</li>\n",
       "\t<li>'P.lobata'</li>\n",
       "\t<li>'M.capitata'</li>\n",
       "\t<li>'P.lobata'</li>\n",
       "\t<li>'P.mendrina'</li>\n",
       "\t<li>'P.mendrina'</li>\n",
       "\t<li>'P.mendrina'</li>\n",
       "\t<li>'M.capitata'</li>\n",
       "\t<li>'P.lobata'</li>\n",
       "\t<li>'M.capitata'</li>\n",
       "\t<li>'P.lobata'</li>\n",
       "\t<li>'P.lobata'</li>\n",
       "\t<li>'P.lobata'</li>\n",
       "\t<li>'P.mendrina'</li>\n",
       "\t<li>'P.lobata'</li>\n",
       "</ol>\n"
      ],
      "text/latex": [
       "\\begin{enumerate*}\n",
       "\\item 'P.mendrina'\n",
       "\\item 'M.capitata'\n",
       "\\item 'P.mendrina'\n",
       "\\item 'P.lobata'\n",
       "\\item 'P.lobata'\n",
       "\\item 'P.lobata'\n",
       "\\item 'P.lobata'\n",
       "\\item 'P.lobata'\n",
       "\\item 'P.lobata'\n",
       "\\item 'P.lobata'\n",
       "\\item 'P.lobata'\n",
       "\\item 'P.mendrina'\n",
       "\\item 'P.lobata'\n",
       "\\item 'P.lobata'\n",
       "\\item 'M.capitata'\n",
       "\\item 'P.mendrina'\n",
       "\\item 'P.lobata'\n",
       "\\item 'M.capitata'\n",
       "\\item 'P.lobata'\n",
       "\\item 'P.lobata'\n",
       "\\item 'P.lobata'\n",
       "\\item 'P.lobata'\n",
       "\\item 'P.lobata'\n",
       "\\item 'P.lobata'\n",
       "\\item 'P.mendrina'\n",
       "\\item 'P.mendrina'\n",
       "\\item 'P.lobata'\n",
       "\\item 'P.mendrina'\n",
       "\\item 'P.mendrina'\n",
       "\\item 'P.mendrina'\n",
       "\\item 'M.capitata'\n",
       "\\item 'P.lobata'\n",
       "\\item 'P.mendrina'\n",
       "\\item 'P.lobata'\n",
       "\\item 'P.mendrina'\n",
       "\\item 'P.lobata'\n",
       "\\item 'M.capitata'\n",
       "\\item 'P.mendrina'\n",
       "\\item 'P.lobata'\n",
       "\\item 'P.lobata'\n",
       "\\item 'M.capitata'\n",
       "\\item 'P.lobata'\n",
       "\\item 'P.lobata'\n",
       "\\item 'P.lobata'\n",
       "\\item 'M.capitata'\n",
       "\\item 'P.lobata'\n",
       "\\item 'P.lobata'\n",
       "\\item 'P.lobata'\n",
       "\\item 'P.lobata'\n",
       "\\item 'P.lobata'\n",
       "\\item 'P.mendrina'\n",
       "\\item 'P.lobata'\n",
       "\\item 'P.lobata'\n",
       "\\item 'P.mendrina'\n",
       "\\item 'P.mendrina'\n",
       "\\item 'M.capitata'\n",
       "\\item 'P.mendrina'\n",
       "\\item 'P.lobata'\n",
       "\\item 'P.lobata'\n",
       "\\item 'P.lobata'\n",
       "\\item 'P.mendrina'\n",
       "\\item 'P.lobata'\n",
       "\\item 'P.lobata'\n",
       "\\item 'P.lobata'\n",
       "\\item 'P.lobata'\n",
       "\\item 'P.lobata'\n",
       "\\item 'M.capitata'\n",
       "\\item 'P.lobata'\n",
       "\\item 'P.lobata'\n",
       "\\item 'M.capitata'\n",
       "\\item 'P.mendrina'\n",
       "\\item 'P.mendrina'\n",
       "\\item 'P.lobata'\n",
       "\\item 'P.mendrina'\n",
       "\\item 'P.lobata'\n",
       "\\item 'P.mendrina'\n",
       "\\item 'P.lobata'\n",
       "\\item 'P.lobata'\n",
       "\\item 'P.mendrina'\n",
       "\\item 'P.mendrina'\n",
       "\\item 'M.capitata'\n",
       "\\item 'M.capitata'\n",
       "\\item 'P.mendrina'\n",
       "\\item 'P.lobata'\n",
       "\\item 'M.capitata'\n",
       "\\item 'P.mendrina'\n",
       "\\item 'P.lobata'\n",
       "\\item 'M.capitata'\n",
       "\\item 'P.lobata'\n",
       "\\item 'P.mendrina'\n",
       "\\item 'P.mendrina'\n",
       "\\item 'P.mendrina'\n",
       "\\item 'M.capitata'\n",
       "\\item 'P.lobata'\n",
       "\\item 'M.capitata'\n",
       "\\item 'P.lobata'\n",
       "\\item 'P.lobata'\n",
       "\\item 'P.lobata'\n",
       "\\item 'P.mendrina'\n",
       "\\item 'P.lobata'\n",
       "\\end{enumerate*}\n"
      ],
      "text/markdown": [
       "1. 'P.mendrina'\n",
       "2. 'M.capitata'\n",
       "3. 'P.mendrina'\n",
       "4. 'P.lobata'\n",
       "5. 'P.lobata'\n",
       "6. 'P.lobata'\n",
       "7. 'P.lobata'\n",
       "8. 'P.lobata'\n",
       "9. 'P.lobata'\n",
       "10. 'P.lobata'\n",
       "11. 'P.lobata'\n",
       "12. 'P.mendrina'\n",
       "13. 'P.lobata'\n",
       "14. 'P.lobata'\n",
       "15. 'M.capitata'\n",
       "16. 'P.mendrina'\n",
       "17. 'P.lobata'\n",
       "18. 'M.capitata'\n",
       "19. 'P.lobata'\n",
       "20. 'P.lobata'\n",
       "21. 'P.lobata'\n",
       "22. 'P.lobata'\n",
       "23. 'P.lobata'\n",
       "24. 'P.lobata'\n",
       "25. 'P.mendrina'\n",
       "26. 'P.mendrina'\n",
       "27. 'P.lobata'\n",
       "28. 'P.mendrina'\n",
       "29. 'P.mendrina'\n",
       "30. 'P.mendrina'\n",
       "31. 'M.capitata'\n",
       "32. 'P.lobata'\n",
       "33. 'P.mendrina'\n",
       "34. 'P.lobata'\n",
       "35. 'P.mendrina'\n",
       "36. 'P.lobata'\n",
       "37. 'M.capitata'\n",
       "38. 'P.mendrina'\n",
       "39. 'P.lobata'\n",
       "40. 'P.lobata'\n",
       "41. 'M.capitata'\n",
       "42. 'P.lobata'\n",
       "43. 'P.lobata'\n",
       "44. 'P.lobata'\n",
       "45. 'M.capitata'\n",
       "46. 'P.lobata'\n",
       "47. 'P.lobata'\n",
       "48. 'P.lobata'\n",
       "49. 'P.lobata'\n",
       "50. 'P.lobata'\n",
       "51. 'P.mendrina'\n",
       "52. 'P.lobata'\n",
       "53. 'P.lobata'\n",
       "54. 'P.mendrina'\n",
       "55. 'P.mendrina'\n",
       "56. 'M.capitata'\n",
       "57. 'P.mendrina'\n",
       "58. 'P.lobata'\n",
       "59. 'P.lobata'\n",
       "60. 'P.lobata'\n",
       "61. 'P.mendrina'\n",
       "62. 'P.lobata'\n",
       "63. 'P.lobata'\n",
       "64. 'P.lobata'\n",
       "65. 'P.lobata'\n",
       "66. 'P.lobata'\n",
       "67. 'M.capitata'\n",
       "68. 'P.lobata'\n",
       "69. 'P.lobata'\n",
       "70. 'M.capitata'\n",
       "71. 'P.mendrina'\n",
       "72. 'P.mendrina'\n",
       "73. 'P.lobata'\n",
       "74. 'P.mendrina'\n",
       "75. 'P.lobata'\n",
       "76. 'P.mendrina'\n",
       "77. 'P.lobata'\n",
       "78. 'P.lobata'\n",
       "79. 'P.mendrina'\n",
       "80. 'P.mendrina'\n",
       "81. 'M.capitata'\n",
       "82. 'M.capitata'\n",
       "83. 'P.mendrina'\n",
       "84. 'P.lobata'\n",
       "85. 'M.capitata'\n",
       "86. 'P.mendrina'\n",
       "87. 'P.lobata'\n",
       "88. 'M.capitata'\n",
       "89. 'P.lobata'\n",
       "90. 'P.mendrina'\n",
       "91. 'P.mendrina'\n",
       "92. 'P.mendrina'\n",
       "93. 'M.capitata'\n",
       "94. 'P.lobata'\n",
       "95. 'M.capitata'\n",
       "96. 'P.lobata'\n",
       "97. 'P.lobata'\n",
       "98. 'P.lobata'\n",
       "99. 'P.mendrina'\n",
       "100. 'P.lobata'\n",
       "\n",
       "\n"
      ],
      "text/plain": [
       "  [1] \"P.mendrina\" \"M.capitata\" \"P.mendrina\" \"P.lobata\"   \"P.lobata\"  \n",
       "  [6] \"P.lobata\"   \"P.lobata\"   \"P.lobata\"   \"P.lobata\"   \"P.lobata\"  \n",
       " [11] \"P.lobata\"   \"P.mendrina\" \"P.lobata\"   \"P.lobata\"   \"M.capitata\"\n",
       " [16] \"P.mendrina\" \"P.lobata\"   \"M.capitata\" \"P.lobata\"   \"P.lobata\"  \n",
       " [21] \"P.lobata\"   \"P.lobata\"   \"P.lobata\"   \"P.lobata\"   \"P.mendrina\"\n",
       " [26] \"P.mendrina\" \"P.lobata\"   \"P.mendrina\" \"P.mendrina\" \"P.mendrina\"\n",
       " [31] \"M.capitata\" \"P.lobata\"   \"P.mendrina\" \"P.lobata\"   \"P.mendrina\"\n",
       " [36] \"P.lobata\"   \"M.capitata\" \"P.mendrina\" \"P.lobata\"   \"P.lobata\"  \n",
       " [41] \"M.capitata\" \"P.lobata\"   \"P.lobata\"   \"P.lobata\"   \"M.capitata\"\n",
       " [46] \"P.lobata\"   \"P.lobata\"   \"P.lobata\"   \"P.lobata\"   \"P.lobata\"  \n",
       " [51] \"P.mendrina\" \"P.lobata\"   \"P.lobata\"   \"P.mendrina\" \"P.mendrina\"\n",
       " [56] \"M.capitata\" \"P.mendrina\" \"P.lobata\"   \"P.lobata\"   \"P.lobata\"  \n",
       " [61] \"P.mendrina\" \"P.lobata\"   \"P.lobata\"   \"P.lobata\"   \"P.lobata\"  \n",
       " [66] \"P.lobata\"   \"M.capitata\" \"P.lobata\"   \"P.lobata\"   \"M.capitata\"\n",
       " [71] \"P.mendrina\" \"P.mendrina\" \"P.lobata\"   \"P.mendrina\" \"P.lobata\"  \n",
       " [76] \"P.mendrina\" \"P.lobata\"   \"P.lobata\"   \"P.mendrina\" \"P.mendrina\"\n",
       " [81] \"M.capitata\" \"M.capitata\" \"P.mendrina\" \"P.lobata\"   \"M.capitata\"\n",
       " [86] \"P.mendrina\" \"P.lobata\"   \"M.capitata\" \"P.lobata\"   \"P.mendrina\"\n",
       " [91] \"P.mendrina\" \"P.mendrina\" \"M.capitata\" \"P.lobata\"   \"M.capitata\"\n",
       " [96] \"P.lobata\"   \"P.lobata\"   \"P.lobata\"   \"P.mendrina\" \"P.lobata\"  "
      ]
     },
     "metadata": {},
     "output_type": "display_data"
    }
   ],
   "source": [
    "set.seed(40)\n",
    "model_y_proportions = c(0.61, 0.19, 0.20)\n",
    "datay = sample(c(\"P.lobata\", \"M.capitata\",\"P.mendrina\"), 100, replace=TRUE, prob=model_y_proportions)\n",
    "datay"
   ]
  },
  {
   "cell_type": "code",
   "execution_count": 55,
   "id": "c58da53c",
   "metadata": {},
   "outputs": [
    {
     "data": {
      "text/plain": [
       "\n",
       "\tKruskal-Wallis rank sum test\n",
       "\n",
       "data:  model_y_proportions and model_x_proportions\n",
       "Kruskal-Wallis chi-squared = 2, df = 2, p-value = 0.3679\n"
      ]
     },
     "metadata": {},
     "output_type": "display_data"
    }
   ],
   "source": [
    "kruskal.test(model_y_proportions,model_x_proportions)\n",
    "#Kruskal-Wallis: Evaluates differences between 3 or more independent groups"
   ]
  },
  {
   "cell_type": "code",
   "execution_count": null,
   "id": "354fb172",
   "metadata": {},
   "outputs": [],
   "source": []
  }
 ],
 "metadata": {
  "kernelspec": {
   "display_name": "R",
   "language": "R",
   "name": "ir"
  },
  "language_info": {
   "codemirror_mode": "r",
   "file_extension": ".r",
   "mimetype": "text/x-r-source",
   "name": "R",
   "pygments_lexer": "r",
   "version": "3.5.1"
  }
 },
 "nbformat": 4,
 "nbformat_minor": 5
}
